{
 "cells": [
  {
   "cell_type": "code",
   "execution_count": null,
   "id": "54d23402-49b9-41ab-afd3-9b02953f5b4b",
   "metadata": {},
   "outputs": [],
   "source": [
    "import pandas as pd\n",
    "pd.plotting.register_matplotlib_converters()\n",
    "import matplotlib.pyplot as plt\n",
    "%matplotlib inline\n",
    "import seaborn as sns\n",
    "import numpy as np\n",
    "from sklearn.feature_extraction.text import CountVectorizer\n",
    "import warnings\n",
    "print(\"Setup Complete\")"
   ]
  },
  {
   "cell_type": "markdown",
   "id": "5dee2bbd-de65-4d46-8365-589ed3fbfa40",
   "metadata": {},
   "source": [
    "### Read mental health dataset from Kaggle as dataframe and analyze it"
   ]
  },
  {
   "cell_type": "code",
   "execution_count": null,
   "id": "1d10e568-ca44-4847-bd52-0cf68a30bcc5",
   "metadata": {},
   "outputs": [],
   "source": [
    "combined = pd.read_csv(\"data/Combined Data.csv\", index_col=0)"
   ]
  },
  {
   "cell_type": "code",
   "execution_count": null,
   "id": "e1929a77-f4f8-49b9-a891-5fddc2d1cd29",
   "metadata": {},
   "outputs": [],
   "source": [
    "combined"
   ]
  },
  {
   "cell_type": "code",
   "execution_count": null,
   "id": "e809af06-5058-488d-a1c3-811d51804131",
   "metadata": {},
   "outputs": [],
   "source": [
    "combined.info()"
   ]
  },
  {
   "cell_type": "code",
   "execution_count": null,
   "id": "7cd3fd3a-83a2-4d71-955c-59842cc7a2d2",
   "metadata": {},
   "outputs": [],
   "source": [
    "# there are almost no missing values\n",
    "missing_values = combined.isna().sum().div(combined.shape[0]).mul(100).to_frame().sort_values(by=0, ascending = False)\n",
    "missing_values.columns  = ['% missing_values']\n",
    "missing_values"
   ]
  },
  {
   "cell_type": "code",
   "execution_count": null,
   "id": "20e2981a-8f2e-4cfd-9866-9d21ffb54576",
   "metadata": {},
   "outputs": [],
   "source": [
    "status_count = combined.groupby(\"status\").count()\n",
    "status_count"
   ]
  },
  {
   "cell_type": "code",
   "execution_count": null,
   "id": "24214490-8667-4032-a4fa-5653e9919faf",
   "metadata": {},
   "outputs": [],
   "source": [
    "sns.barplot(data=combined['status'])"
   ]
  },
  {
   "cell_type": "markdown",
   "id": "0c0a2080-1c85-4a8c-b243-a72c12de7e6d",
   "metadata": {},
   "source": [
    "### Create bag of words matrix based on free text in statements"
   ]
  },
  {
   "cell_type": "code",
   "execution_count": null,
   "id": "c992b484-7dea-4d73-b5e6-dbb28bb51773",
   "metadata": {},
   "outputs": [],
   "source": [
    "# see https://stackoverflow.com/questions/70719940/how-to-get-bag-of-words-and-term-frequency-in-text-format-using-sklearn\n",
    "# https://scikit-learn.org/stable/modules/feature_extraction.html\n",
    "statements = combined[\"statement\"].fillna(\"\").tolist()\n",
    "count_vec = CountVectorizer()\n",
    "count_vec_fitted = count_vec.fit_transform(statements)\n",
    "word_counts = count_vec_fitted.toarray()\n",
    "words = count_vec.get_feature_names_out()\n",
    "bag_of_words = pd.DataFrame(data=word_counts, columns=words)\n",
    "bag_of_words.head()"
   ]
  },
  {
   "cell_type": "code",
   "execution_count": null,
   "id": "e757b215-4dc9-47d8-981f-2f0d84772714",
   "metadata": {},
   "outputs": [],
   "source": [
    "# filter columns by columns sums and regex\n",
    "bag_of_words = bag_of_words.loc[:, bag_of_words.sum(axis=0) > 100] \n",
    "bag_of_words = bag_of_words[list(bag_of_words.filter(regex='[A-Za-z]'))]"
   ]
  },
  {
   "cell_type": "code",
   "execution_count": null,
   "id": "c2ff28e3-2b26-4b2e-83f9-d6a7b52cdd41",
   "metadata": {},
   "outputs": [],
   "source": [
    "bag_of_words.shape"
   ]
  },
  {
   "cell_type": "code",
   "execution_count": null,
   "id": "51d811a9-6dad-4c0c-95c3-0a638b6c194a",
   "metadata": {},
   "outputs": [],
   "source": [
    "bag_of_words.head()"
   ]
  },
  {
   "cell_type": "code",
   "execution_count": null,
   "id": "1425decd-9ab6-43ef-80e1-e9d76955dedd",
   "metadata": {},
   "outputs": [],
   "source": []
  },
  {
   "cell_type": "code",
   "execution_count": null,
   "id": "26943359-f49a-4d92-823f-891737fa8c5b",
   "metadata": {},
   "outputs": [],
   "source": []
  }
 ],
 "metadata": {
  "kernelspec": {
   "display_name": "Python 3 (ipykernel)",
   "language": "python",
   "name": "python3"
  },
  "language_info": {
   "codemirror_mode": {
    "name": "ipython",
    "version": 3
   },
   "file_extension": ".py",
   "mimetype": "text/x-python",
   "name": "python",
   "nbconvert_exporter": "python",
   "pygments_lexer": "ipython3",
   "version": "3.12.4"
  }
 },
 "nbformat": 4,
 "nbformat_minor": 5
}
